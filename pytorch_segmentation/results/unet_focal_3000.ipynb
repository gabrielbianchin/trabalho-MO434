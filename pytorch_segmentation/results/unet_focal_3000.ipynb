{
 "cells": [
  {
   "cell_type": "code",
   "execution_count": null,
   "metadata": {},
   "outputs": [],
   "source": [
    "import sys\n",
    "sys.path.append('..')"
   ]
  },
  {
   "cell_type": "code",
   "execution_count": null,
   "metadata": {},
   "outputs": [],
   "source": [
    "import torch\n",
    "import albumentations as A\n",
    "import models\n",
    "import dataloaders\n",
    "import json\n",
    "from train import get_instance\n",
    "from utils.metrics import evaluate_dataloader\n",
    "from utils.helpers import plot_inference"
   ]
  },
  {
   "cell_type": "code",
   "execution_count": null,
   "metadata": {},
   "outputs": [],
   "source": [
    "config_path = '../configs/unet_focal.json'\n",
    "model_path = '/mnt/1058CF1419A58A26/saved/UNet/11-24_12-17/best_model.pth'"
   ]
  },
  {
   "cell_type": "code",
   "execution_count": null,
   "metadata": {},
   "outputs": [],
   "source": [
    "config = json.load(open(config_path))\n",
    "print(config)\n",
    "\n",
    "dataloader_val = get_instance(dataloaders, 'val_loader', config)\n",
    "dataloader_test = get_instance(dataloaders, 'test_loader', config)"
   ]
  },
  {
   "cell_type": "code",
   "execution_count": null,
   "metadata": {
    "scrolled": true
   },
   "outputs": [],
   "source": [
    "loader = getattr(dataloaders, config['train_loader']['type'])(**config['train_loader']['args'])\n",
    "num_classes = loader.dataset.num_classes\n",
    "\n",
    "# Model\n",
    "model = getattr(models, config['arch']['type'])(num_classes, **config['arch']['args'])\n",
    "availble_gpus = list(range(torch.cuda.device_count()))\n",
    "device = torch.device('cuda:0' if len(availble_gpus) > 0 else 'cpu')\n",
    "\n",
    "checkpoint = torch.load(model_path)\n",
    "if isinstance(checkpoint, dict) and 'state_dict' in checkpoint.keys():\n",
    "    checkpoint = checkpoint['state_dict']\n",
    "if 'module' in list(checkpoint.keys())[0] and not isinstance(model, torch.nn.DataParallel):\n",
    "    model = torch.nn.DataParallel(model)\n",
    "model.load_state_dict(checkpoint)\n",
    "model.to(device)\n",
    "model.eval()"
   ]
  },
  {
   "cell_type": "code",
   "execution_count": null,
   "metadata": {
    "scrolled": true
   },
   "outputs": [],
   "source": [
    "evaluate_dataloader(model, dataloader_val)\n",
    "plot_inference(model, dataloader_val, batches=1)"
   ]
  },
  {
   "cell_type": "code",
   "execution_count": null,
   "metadata": {},
   "outputs": [],
   "source": [
    "evaluate_dataloader(model, dataloader_test)\n",
    "plot_inference(model, dataloader_test, batches=1)"
   ]
  },
  {
   "cell_type": "code",
   "execution_count": null,
   "metadata": {},
   "outputs": [],
   "source": []
  }
 ],
 "metadata": {
  "kernelspec": {
   "display_name": "Python 3",
   "language": "python",
   "name": "python3"
  },
  "language_info": {
   "codemirror_mode": {
    "name": "ipython",
    "version": 3
   },
   "file_extension": ".py",
   "mimetype": "text/x-python",
   "name": "python",
   "nbconvert_exporter": "python",
   "pygments_lexer": "ipython3",
   "version": "3.6.8"
  }
 },
 "nbformat": 4,
 "nbformat_minor": 2
}
