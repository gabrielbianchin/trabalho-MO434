{
 "cells": [
  {
   "cell_type": "code",
   "execution_count": 3,
   "metadata": {},
   "outputs": [],
   "source": [
    "from base import BaseDataSet, BaseDataLoader\n",
    "from utils import palette\n",
    "from glob import glob\n",
    "import numpy as np\n",
    "import os\n",
    "import cv2\n",
    "import torch\n",
    "from PIL import Image\n",
    "from torch.utils.data import Dataset\n",
    "from torchvision import transforms"
   ]
  },
  {
   "cell_type": "code",
   "execution_count": 6,
   "metadata": {},
   "outputs": [],
   "source": [
    "ignore_label = 255\n",
    "ID_TO_TRAINID = {-1: ignore_label, 0: ignore_label, 1: ignore_label, 2: ignore_label,\n",
    "                    3: ignore_label, 4: ignore_label, 5: ignore_label, 6: ignore_label,\n",
    "                    7: 0, 8: 1, 9: ignore_label, 10: ignore_label, 11: 2, 12: 3, 13: 4,\n",
    "                    14: ignore_label, 15: ignore_label, 16: ignore_label, 17: 5,\n",
    "                    18: ignore_label, 19: 6, 20: 7, 21: 8, 22: 9, 23: 10, 24: 11, 25: 12, 26: 13, 27: 14,\n",
    "                    28: 15, 29: ignore_label, 30: ignore_label, 31: 16, 32: 17, 33: 18}"
   ]
  },
  {
   "cell_type": "code",
   "execution_count": 4,
   "metadata": {},
   "outputs": [],
   "source": [
    "class CityScapesDataset(BaseDataSet):\n",
    "    def __init__(self, mode='fine', **kwargs):\n",
    "        self.num_classes = 19\n",
    "        self.mode = mode\n",
    "        self.palette = palette.CityScpates_palette\n",
    "        self.id_to_trainId = ID_TO_TRAINID\n",
    "        super(CityScapesDataset, self).__init__(**kwargs)\n",
    "\n",
    "    def _set_files(self):\n",
    "        assert (self.mode == 'fine' and self.split in ['train', 'val']) or \\\n",
    "        (self.mode == 'coarse' and self.split in ['train', 'train_extra', 'val'])\n",
    "\n",
    "        SUFIX = '_gtFine_labelIds.png'\n",
    "        if self.mode == 'coarse':\n",
    "            img_dir_name = 'leftImg8bit_trainextra' if self.split == 'train_extra' else 'leftImg8bit_trainvaltest'\n",
    "            label_path = os.path.join(self.root, 'gtCoarse', 'gtCoarse', self.split)\n",
    "        else:\n",
    "            img_dir_name = 'leftImg8bit_trainvaltest'\n",
    "            label_path = os.path.join(self.root, 'gtFine_trainvaltest', 'gtFine', self.split)\n",
    "        image_path = os.path.join(self.root, img_dir_name, 'leftImg8bit', self.split)\n",
    "        assert os.listdir(image_path) == os.listdir(label_path)\n",
    "\n",
    "        image_paths, label_paths = [], []\n",
    "        for city in os.listdir(image_path):\n",
    "            image_paths.extend(sorted(glob(os.path.join(image_path, city, '*.png'))))\n",
    "            label_paths.extend(sorted(glob(os.path.join(label_path, city, f'*{SUFIX}'))))\n",
    "        self.files = list(zip(image_paths, label_paths))\n",
    "\n",
    "    def _load_data(self, index):\n",
    "        image_path, label_path = self.files[index]\n",
    "        image_id = os.path.splitext(os.path.basename(image_path))[0]\n",
    "        image = np.asarray(Image.open(image_path).convert('RGB'), dtype=np.float32)\n",
    "        label = np.asarray(Image.open(label_path), dtype=np.int32)\n",
    "        for k, v in self.id_to_trainId.items():\n",
    "            label[label == k] = v\n",
    "        return image, label, image_id"
   ]
  },
  {
   "cell_type": "code",
   "execution_count": 9,
   "metadata": {},
   "outputs": [
    {
     "ename": "TypeError",
     "evalue": "__init__() missing 3 required positional arguments: 'split', 'mean', and 'std'",
     "output_type": "error",
     "traceback": [
      "\u001b[0;31m---------------------------------------------------------------------------\u001b[0m",
      "\u001b[0;31mTypeError\u001b[0m                                 Traceback (most recent call last)",
      "\u001b[0;32m<ipython-input-9-2b21c46c7fb0>\u001b[0m in \u001b[0;36m<module>\u001b[0;34m\u001b[0m\n\u001b[0;32m----> 1\u001b[0;31m \u001b[0ma\u001b[0m \u001b[0;34m=\u001b[0m \u001b[0mCityScapesDataset\u001b[0m\u001b[0;34m(\u001b[0m\u001b[0mroot\u001b[0m\u001b[0;34m=\u001b[0m\u001b[0;34m'../../trabalho-MO434/data/'\u001b[0m\u001b[0;34m)\u001b[0m\u001b[0;34m\u001b[0m\u001b[0;34m\u001b[0m\u001b[0m\n\u001b[0m",
      "\u001b[0;32m<ipython-input-4-f601a92ebc6b>\u001b[0m in \u001b[0;36m__init__\u001b[0;34m(self, mode, **kwargs)\u001b[0m\n\u001b[1;32m      5\u001b[0m         \u001b[0mself\u001b[0m\u001b[0;34m.\u001b[0m\u001b[0mpalette\u001b[0m \u001b[0;34m=\u001b[0m \u001b[0mpalette\u001b[0m\u001b[0;34m.\u001b[0m\u001b[0mCityScpates_palette\u001b[0m\u001b[0;34m\u001b[0m\u001b[0;34m\u001b[0m\u001b[0m\n\u001b[1;32m      6\u001b[0m         \u001b[0mself\u001b[0m\u001b[0;34m.\u001b[0m\u001b[0mid_to_trainId\u001b[0m \u001b[0;34m=\u001b[0m \u001b[0mID_TO_TRAINID\u001b[0m\u001b[0;34m\u001b[0m\u001b[0;34m\u001b[0m\u001b[0m\n\u001b[0;32m----> 7\u001b[0;31m         \u001b[0msuper\u001b[0m\u001b[0;34m(\u001b[0m\u001b[0mCityScapesDataset\u001b[0m\u001b[0;34m,\u001b[0m \u001b[0mself\u001b[0m\u001b[0;34m)\u001b[0m\u001b[0;34m.\u001b[0m\u001b[0m__init__\u001b[0m\u001b[0;34m(\u001b[0m\u001b[0;34m**\u001b[0m\u001b[0mkwargs\u001b[0m\u001b[0;34m)\u001b[0m\u001b[0;34m\u001b[0m\u001b[0;34m\u001b[0m\u001b[0m\n\u001b[0m\u001b[1;32m      8\u001b[0m \u001b[0;34m\u001b[0m\u001b[0m\n\u001b[1;32m      9\u001b[0m     \u001b[0;32mdef\u001b[0m \u001b[0m_set_files\u001b[0m\u001b[0;34m(\u001b[0m\u001b[0mself\u001b[0m\u001b[0;34m)\u001b[0m\u001b[0;34m:\u001b[0m\u001b[0;34m\u001b[0m\u001b[0;34m\u001b[0m\u001b[0m\n",
      "\u001b[0;31mTypeError\u001b[0m: __init__() missing 3 required positional arguments: 'split', 'mean', and 'std'"
     ]
    }
   ],
   "source": [
    "kwargs = {\n",
    "    'root': data_dir,\n",
    "    'split': split,\n",
    "    'mean': self.MEAN,\n",
    "    'std': self.STD,\n",
    "    'augment': augment,\n",
    "    'crop_size': crop_size,\n",
    "    'base_size': base_size,\n",
    "    'scale': scale,\n",
    "    'flip': flip,\n",
    "    'blur': blur,\n",
    "    'rotate': rotate,\n",
    "    'return_id': return_id,\n",
    "    'val': val\n",
    "}"
   ]
  },
  {
   "cell_type": "code",
   "execution_count": null,
   "metadata": {},
   "outputs": [],
   "source": []
  }
 ],
 "metadata": {
  "kernelspec": {
   "display_name": "Python 3",
   "language": "python",
   "name": "python3"
  },
  "language_info": {
   "codemirror_mode": {
    "name": "ipython",
    "version": 3
   },
   "file_extension": ".py",
   "mimetype": "text/x-python",
   "name": "python",
   "nbconvert_exporter": "python",
   "pygments_lexer": "ipython3",
   "version": "3.6.8"
  }
 },
 "nbformat": 4,
 "nbformat_minor": 2
}
