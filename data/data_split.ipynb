{
 "cells": [
  {
   "cell_type": "code",
   "execution_count": 1,
   "metadata": {},
   "outputs": [],
   "source": [
    "import glob\n",
    "import natsort\n",
    "import pandas\n",
    "from data_functions import filter_path\n",
    "from sklearn.model_selection import train_test_split\n",
    "from pandas.util import hash_pandas_object"
   ]
  },
  {
   "cell_type": "code",
   "execution_count": 2,
   "metadata": {},
   "outputs": [],
   "source": [
    "dataset_path = '/home/gustavu92/bonn2016/Bonn2016/'"
   ]
  },
  {
   "cell_type": "code",
   "execution_count": 3,
   "metadata": {},
   "outputs": [],
   "source": [
    "images_path = glob.glob(dataset_path + '*/images/rgb/*.png')\n",
    "annotations_path = glob.glob(dataset_path + '*/annotations/dlp/colorCleaned/*')\n",
    "\n",
    "images_path = natsort.natsorted(images_path)\n",
    "annotations_path = natsort.natsorted(annotations_path)\n",
    "\n",
    "images_path, annotations_path = filter_path(images_path, annotations_path)\n",
    "\n",
    "images_path = pandas.DataFrame(images_path, columns=['path'])\n",
    "annotations_path = pandas.DataFrame(annotations_path, columns=['path'])\n",
    "\n",
    "X_train, X_test, y_train, y_test = train_test_split(images_path, annotations_path, test_size=0.5, random_state=1)\n",
    "X_test, X_val, y_test, y_val = train_test_split(X_test, y_test, test_size=0.5, random_state=1)"
   ]
  },
  {
   "cell_type": "code",
   "execution_count": 5,
   "metadata": {},
   "outputs": [
    {
     "name": "stdout",
     "output_type": "stream",
     "text": [
      "Número de imagens: 12364\n",
      "Número de anotações: 12364\n",
      "Imagens para treinamento: 6182\n",
      "Imagens para validação: 3091\n",
      "Imagens para teste: 3091\n"
     ]
    }
   ],
   "source": [
    "print(\"Número de imagens: %i\"%len(images_path))\n",
    "print(\"Número de anotações: %i\"%len(annotations_path))\n",
    "print(\"Imagens para treinamento: %i\"%len(X_train))\n",
    "print(\"Imagens para validação: %i\"%len(X_val))\n",
    "print(\"Imagens para teste: %i\"%len(X_test))"
   ]
  },
  {
   "cell_type": "code",
   "execution_count": null,
   "metadata": {},
   "outputs": [],
   "source": [
    "assert(hash_pandas_object(X_train).sum() == 5208699375392536430)\n",
    "assert(hash_pandas_object(X_val).sum() == 297139686857862487)\n",
    "assert(hash_pandas_object(X_test).sum() == 5818881673049966663)\n",
    "assert(hash_pandas_object(y_train).sum() == 7336982328992740184)\n",
    "assert(hash_pandas_object(y_val).sum() == 4353016506726049717)\n",
    "assert(hash_pandas_object(y_test).sum() == 6921215844070567532)\n",
    "\n",
    "X_train.to_pickle(\"./X_train.pkl\")\n",
    "X_val.to_pickle(\"./X_val.pkl\")\n",
    "X_test.to_pickle(\"./X_test.pkl\")\n",
    "y_train.to_pickle(\"./y_train.pkl\")\n",
    "y_val.to_pickle(\"./y_val.pkl\")\n",
    "y_test.to_pickle(\"./y_test.pkl\")"
   ]
  },
  {
   "cell_type": "code",
   "execution_count": null,
   "metadata": {},
   "outputs": [],
   "source": []
  }
 ],
 "metadata": {
  "kernelspec": {
   "display_name": "Python 3",
   "language": "python",
   "name": "python3"
  },
  "language_info": {
   "codemirror_mode": {
    "name": "ipython",
    "version": 3
   },
   "file_extension": ".py",
   "mimetype": "text/x-python",
   "name": "python",
   "nbconvert_exporter": "python",
   "pygments_lexer": "ipython3",
   "version": "3.7.4"
  }
 },
 "nbformat": 4,
 "nbformat_minor": 2
}
