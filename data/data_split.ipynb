{
 "cells": [
  {
   "cell_type": "code",
   "execution_count": 1,
   "metadata": {},
   "outputs": [],
   "source": [
    "import glob\n",
    "import natsort\n",
    "import pandas\n",
    "from data_functions import filter_path\n",
    "from sklearn.model_selection import train_test_split\n",
    "from pandas.util import hash_pandas_object"
   ]
  },
  {
   "cell_type": "code",
   "execution_count": 2,
   "metadata": {},
   "outputs": [],
   "source": [
    "images_path = glob.glob('/mnt/1058CF1419A58A26/Bonn2016/*/images/rgb/*.png')\n",
    "annotations_path = glob.glob('/mnt/1058CF1419A58A26/Bonn2016/*/annotations/dlp/colorCleaned/*.png')\n",
    "\n",
    "images_path = natsort.natsorted(images_path)\n",
    "annotations_path = natsort.natsorted(annotations_path)\n",
    "\n",
    "images_path, annotations_path = filter_path(images_path, annotations_path)\n",
    "\n",
    "images_path = pandas.DataFrame(images_path, columns=['path'])\n",
    "annotations_path = pandas.DataFrame(annotations_path, columns=['path'])\n",
    "\n",
    "X_train, X_test, y_train, y_test = train_test_split(images_path, annotations_path, test_size=0.3, random_state=1)\n",
    "X_train, X_val, y_train, y_val = train_test_split(X_train, y_train, test_size=0.3, random_state=1)"
   ]
  },
  {
   "cell_type": "code",
   "execution_count": 3,
   "metadata": {},
   "outputs": [],
   "source": [
    "assert(hash_pandas_object(X_train).sum() == 5208699375392536430)\n",
    "assert(hash_pandas_object(X_val).sum() == 297139686857862487)\n",
    "assert(hash_pandas_object(X_test).sum() == 5818881673049966663)\n",
    "assert(hash_pandas_object(y_train).sum() == 7336982328992740184)\n",
    "assert(hash_pandas_object(y_val).sum() == 4353016506726049717)\n",
    "assert(hash_pandas_object(y_test).sum() == 6921215844070567532)\n",
    "\n",
    "X_train.to_pickle(\"./X_train.pkl\")\n",
    "X_val.to_pickle(\"./X_val.pkl\")\n",
    "X_test.to_pickle(\"./X_test.pkl\")\n",
    "y_train.to_pickle(\"./y_train.pkl\")\n",
    "y_val.to_pickle(\"./y_val.pkl\")\n",
    "y_test.to_pickle(\"./y_test.pkl\")"
   ]
  },
  {
   "cell_type": "code",
   "execution_count": null,
   "metadata": {},
   "outputs": [],
   "source": []
  }
 ],
 "metadata": {
  "kernelspec": {
   "display_name": "Python 3",
   "language": "python",
   "name": "python3"
  },
  "language_info": {
   "codemirror_mode": {
    "name": "ipython",
    "version": 3
   },
   "file_extension": ".py",
   "mimetype": "text/x-python",
   "name": "python",
   "nbconvert_exporter": "python",
   "pygments_lexer": "ipython3",
   "version": "3.6.8"
  }
 },
 "nbformat": 4,
 "nbformat_minor": 2
}
